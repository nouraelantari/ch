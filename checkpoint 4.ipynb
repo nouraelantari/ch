{
 "cells": [
  {
   "cell_type": "markdown",
   "id": "11706d2b",
   "metadata": {},
   "source": [
    "# Question 1\n",
    "\n"
   ]
  },
  {
   "cell_type": "code",
   "execution_count": 1,
   "id": "e315979a",
   "metadata": {},
   "outputs": [
    {
     "name": "stdout",
     "output_type": "stream",
     "text": [
      "7\n"
     ]
    }
   ],
   "source": [
    "def maximum (x,y,z):\n",
    "    if x>=y and x>=z:\n",
    "        return x\n",
    "    elif y>=x and y>=z:\n",
    "        return y\n",
    "    else:\n",
    "        return z\n",
    "print (maximum(2,5,7))"
   ]
  },
  {
   "cell_type": "markdown",
   "id": "bc498bf8",
   "metadata": {},
   "source": [
    "# Question 2"
   ]
  },
  {
   "cell_type": "code",
   "execution_count": 3,
   "id": "69113c0a",
   "metadata": {},
   "outputs": [
    {
     "name": "stdout",
     "output_type": "stream",
     "text": [
      "(69, 11)\n"
     ]
    }
   ],
   "source": [
    "def calculation(a,b):\n",
    "    return (a+b,a-b)\n",
    "print (calculation(40,29))"
   ]
  },
  {
   "cell_type": "markdown",
   "id": "7402919b",
   "metadata": {},
   "source": [
    "# question 3"
   ]
  },
  {
   "cell_type": "code",
   "execution_count": 20,
   "id": "57f60e4c",
   "metadata": {},
   "outputs": [
    {
     "data": {
      "text/plain": [
       "24"
      ]
     },
     "execution_count": 20,
     "metadata": {},
     "output_type": "execute_result"
    }
   ],
   "source": [
    "Liste= [2,7,6,9]\n",
    "def addition(l):\n",
    "    s=0\n",
    "    for i in l:\n",
    "        s=s+i\n",
    "    return s\n",
    "addition(Liste)\n",
    "        "
   ]
  },
  {
   "cell_type": "code",
   "execution_count": 21,
   "id": "4963a4f9",
   "metadata": {},
   "outputs": [
    {
     "data": {
      "text/plain": [
       "756"
      ]
     },
     "execution_count": 21,
     "metadata": {},
     "output_type": "execute_result"
    }
   ],
   "source": [
    "def multiplication(l):\n",
    "    m=1\n",
    "    for i in l:\n",
    "        m=m*i\n",
    "    return m\n",
    "multiplication(Liste)"
   ]
  },
  {
   "cell_type": "code",
   "execution_count": 23,
   "id": "cda05ead",
   "metadata": {},
   "outputs": [
    {
     "data": {
      "text/plain": [
       "(8, 63)"
      ]
     },
     "execution_count": 23,
     "metadata": {},
     "output_type": "execute_result"
    }
   ],
   "source": [
    "def both(l):\n",
    "    p=[]\n",
    "    I=[]\n",
    "    for i in range (len(l)):\n",
    "        if i%2==0:\n",
    "            p.append (l[i])\n",
    "        else:\n",
    "            I.append (l[i])\n",
    "    return (addition(p),multiplication(I))\n",
    "both(Liste)"
   ]
  },
  {
   "cell_type": "markdown",
   "id": "b9cd5907",
   "metadata": {},
   "source": [
    "# Question 4\n",
    "\n"
   ]
  },
  {
   "cell_type": "code",
   "execution_count": 1,
   "id": "4c4cfcd0",
   "metadata": {},
   "outputs": [
    {
     "name": "stdout",
     "output_type": "stream",
     "text": [
      "green-red-yellow-black-white\n",
      "black-green-red-white-yellow\n"
     ]
    }
   ],
   "source": [
    "i=[n for n in input().split('-')]\n",
    "i.sort()\n",
    "print('-'.join(i))"
   ]
  },
  {
   "cell_type": "markdown",
   "id": "c6370aa2",
   "metadata": {},
   "source": [
    "# Question 5 (Bonus)\n",
    "\n"
   ]
  },
  {
   "cell_type": "code",
   "execution_count": 6,
   "id": "df6713af",
   "metadata": {},
   "outputs": [
    {
     "name": "stdout",
     "output_type": "stream",
     "text": [
      "entrer la valeur de D:100,150,180\n"
     ]
    },
    {
     "data": {
      "text/plain": [
       "[18, 22, 24]"
      ]
     },
     "execution_count": 6,
     "metadata": {},
     "output_type": "execute_result"
    }
   ],
   "source": [
    "import math \n",
    "def calcule_sqrt():\n",
    "    n=input(\"entrer la valeur de D:\")\n",
    "    n=n.split(\",\")\n",
    "    l=[]\n",
    "    for D in n:\n",
    "        Q=round(math.sqrt(2*50*int (D)/30))\n",
    "        l.append(Q)\n",
    "    return l\n",
    "calcule_sqrt()"
   ]
  },
  {
   "cell_type": "code",
   "execution_count": null,
   "id": "c9ddbbef",
   "metadata": {},
   "outputs": [],
   "source": []
  }
 ],
 "metadata": {
  "kernelspec": {
   "display_name": "Python 3 (ipykernel)",
   "language": "python",
   "name": "python3"
  },
  "language_info": {
   "codemirror_mode": {
    "name": "ipython",
    "version": 3
   },
   "file_extension": ".py",
   "mimetype": "text/x-python",
   "name": "python",
   "nbconvert_exporter": "python",
   "pygments_lexer": "ipython3",
   "version": "3.9.7"
  }
 },
 "nbformat": 4,
 "nbformat_minor": 5
}
